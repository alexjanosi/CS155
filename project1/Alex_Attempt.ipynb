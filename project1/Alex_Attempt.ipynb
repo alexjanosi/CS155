{
 "cells": [
  {
   "cell_type": "markdown",
   "metadata": {},
   "source": [
    "# Imports"
   ]
  },
  {
   "cell_type": "code",
   "execution_count": 1,
   "metadata": {},
   "outputs": [],
   "source": [
    "import numpy as np\n",
    "import csv\n",
    "from sklearn.ensemble import RandomForestClassifier\n",
    "from sklearn.ensemble import RandomForestRegressor\n",
    "from sklearn.model_selection import KFold\n",
    "import matplotlib.pyplot as plt\n",
    "import pandas as pd\n",
    "import winsound\n",
    "import warnings\n",
    "from sklearn.model_selection import RandomizedSearchCV\n",
    "\n",
    "warnings.filterwarnings(\"ignore\")"
   ]
  },
  {
   "cell_type": "markdown",
   "metadata": {},
   "source": [
    "# Helper Functions"
   ]
  },
  {
   "cell_type": "code",
   "execution_count": 2,
   "metadata": {},
   "outputs": [],
   "source": [
    "def load_datafiles(filename):\n",
    "    file = pd.read_csv(filename)\n",
    "    x_train = file\n",
    "    x_train = x_train.drop('target', 1)\n",
    "    y_train = file['target']\n",
    "    return x_train, y_train\n",
    "\n",
    "def load_testfiles(filename):\n",
    "    file = pd.read_csv(filename)\n",
    "    return file\n",
    "\n",
    "def write_sub(y_test, fname):\n",
    "    f = open(fname, 'w')\n",
    "    f.write('id,target\\n')\n",
    "    for i in range(len(y_test)):\n",
    "        f.write(str(i) + ',' + str(round(y_test[i], 6)) +'\\n')\n",
    "    f.close()\n",
    "\n",
    "def squared_loss(y, real_y):\n",
    "    \n",
    "    loss = 0\n",
    "    for i in range(len(y)):\n",
    "        loss += (y[i] - real_y[i])**2\n",
    "            \n",
    "    return loss / len(y)\n",
    "\n",
    "def docrossval(clf ,num_folds):\n",
    "    \n",
    "    kf = KFold(n_splits=num_folds)\n",
    "    tr_err = 0.0  # training error for this validation\n",
    "    val_err = 0.0 # validation error for this validation \n",
    "    \n",
    "    for train_index, test_index in kf.split(X_train):\n",
    "        # Training and testing data points for this fold:\n",
    "        x_tr, x_val = X_train[train_index], X_train[test_index]\n",
    "        y_tr, y_val = y_train[train_index], y_train[test_index]\n",
    "\n",
    "        clf.fit(x_tr, y_tr)\n",
    "        tr_err += squared_loss(clf.predict(x_tr), y_tr)\n",
    "        val_err  += squared_loss(clf.predict(x_val), y_val)\n",
    "    return(tr_err, val_err)\n",
    "\n",
    "        "
   ]
  },
  {
   "cell_type": "markdown",
   "metadata": {},
   "source": [
    "# Loading the Data"
   ]
  },
  {
   "cell_type": "code",
   "execution_count": 3,
   "metadata": {},
   "outputs": [],
   "source": [
    "x_train, y_train = load_datafiles(\"train_2008.csv\")\n",
    "x_test = load_testfiles(\"test_2008.csv\")"
   ]
  },
  {
   "cell_type": "markdown",
   "metadata": {},
   "source": [
    "# Making the Model"
   ]
  },
  {
   "cell_type": "code",
   "execution_count": null,
   "metadata": {},
   "outputs": [],
   "source": [
    "x_train_headers = list(x_train.columns.values)\n",
    "x_test_headers = list(x_test.columns.values)\n",
    "y_train_headers = ['target']\n"
   ]
  },
  {
   "cell_type": "markdown",
   "metadata": {},
   "source": [
    "# The Big One"
   ]
  },
  {
   "cell_type": "code",
   "execution_count": null,
   "metadata": {},
   "outputs": [],
   "source": [
    "estimators = np.linspace(5, 20, 16, dtype = int)\n",
    "max_dep = np.linspace(1, 100, 100, dtype = int)\n",
    "min_split = np.linspace(2, 5, 4, dtype = int)\n",
    "min_samples = np.linspace(1, 5, 5, dtype = int)\n",
    "\n",
    "oob = []\n",
    "error = []\n",
    "\n",
    "for i in estimators:\n",
    "    for k in max_dep:\n",
    "        for j in min_split:\n",
    "            for l in min_samples:\n",
    "                clf = RandomForestClassifier(n_estimators = i, max_depth = k, \\\n",
    "                                            min_samples_split = j, \\\n",
    "                                            min_samples_leaf = l, \\\n",
    "                                             oob_score = True)\n",
    "                clf.fit(x_train, y_train)\n",
    "                err = clf.oob_score_\n",
    "                err2 = squared_loss(clf.predict(x_train), y_train)\n",
    "                oob.append(err)\n",
    "                error.append(err2)\n",
    "                print(\"Estimator: \" + str(i) + \" max_dep: \" + str(k) + \\\n",
    "                     \" min_split: \" + str(j) + \" min_samples: \" + str(l) + \\\n",
    "                     \" oob: \" + str(err) + \" err: \" + str(err2))\n",
    "                \n",
    "print(max(oob))\n",
    "print(min(error))\n",
    "\n",
    "\n",
    "winsound.Beep(10000, 440)\n"
   ]
  },
  {
   "cell_type": "code",
   "execution_count": 103,
   "metadata": {},
   "outputs": [],
   "source": [
    "clf = RandomForestClassifier(n_estimators = 1000, max_depth = 13, min_samples_split = 5, min_samples_leaf = 2)\n",
    "clf.fit(x_train, y_train)\n",
    "squared_loss(clf.predict(x_train), y_train)\n",
    "winsound.Beep(10000, 440)"
   ]
  },
  {
   "cell_type": "code",
   "execution_count": null,
   "metadata": {},
   "outputs": [],
   "source": []
  },
  {
   "cell_type": "code",
   "execution_count": 113,
   "metadata": {},
   "outputs": [
    {
     "name": "stdout",
     "output_type": "stream",
     "text": [
      "10\n",
      "12\n",
      "15\n",
      "17\n",
      "20\n",
      "23\n",
      "25\n",
      "28\n",
      "31\n",
      "33\n",
      "36\n",
      "39\n",
      "41\n",
      "44\n",
      "47\n",
      "49\n",
      "52\n",
      "55\n",
      "57\n",
      "60\n",
      "63\n",
      "65\n",
      "68\n",
      "71\n",
      "73\n",
      "76\n",
      "79\n",
      "81\n",
      "84\n",
      "87\n",
      "89\n",
      "92\n",
      "95\n",
      "97\n",
      "100\n",
      "102\n",
      "105\n",
      "108\n",
      "110\n",
      "113\n",
      "116\n",
      "118\n",
      "121\n",
      "124\n",
      "126\n",
      "129\n",
      "132\n",
      "134\n",
      "137\n",
      "140\n",
      "142\n",
      "145\n",
      "148\n",
      "150\n",
      "153\n",
      "156\n",
      "158\n",
      "161\n",
      "164\n",
      "166\n",
      "169\n",
      "172\n",
      "174\n",
      "177\n",
      "180\n"
     ]
    },
    {
     "data": {
      "image/png": "[encoded data removed]",
      "text/plain": [
       "<Figure size 432x288 with 1 Axes>"
      ]
     },
     "metadata": {
      "needs_background": "light"
     },
     "output_type": "display_data"
    }
   ],
   "source": [
    "estimators = np.linspace(10, 180, 65, dtype = int)\n",
    "\n",
    "error1 = []\n",
    "error2 = []\n",
    "\n",
    "for i in estimators:\n",
    "    clf = RandomForestClassifier(n_estimators = i, oob_score=True)\n",
    "    clf2 = RandomForestClassifier(n_estimators = i, max_features='sqrt', oob_score=True)\n",
    "    clf.fit(x_train, y_train)\n",
    "    clf2.fit(x_train, y_train)\n",
    "    error1.append(1 - clf.oob_score_)\n",
    "    error2.append(1 - clf.oob_score_)\n",
    "    print(i)\n",
    "    \n",
    "plt.plot(estimators, error1, color = 'r')\n",
    "plt.plot(estimators, error2, color = 'g')\n",
    "plt.show()\n",
    "winsound.Beep(10000, 440)"
   ]
  },
  {
   "cell_type": "code",
   "execution_count": null,
   "metadata": {},
   "outputs": [
    {
     "name": "stdout",
     "output_type": "stream",
     "text": [
      "hi\n",
      "Fitting 3 folds for each of 100 candidates, totalling 300 fits\n"
     ]
    },
    {
     "name": "stderr",
     "output_type": "stream",
     "text": [
      "[Parallel(n_jobs=-1)]: Using backend LokyBackend with 8 concurrent workers.\n",
      "[Parallel(n_jobs=-1)]: Done  25 tasks      | elapsed: 461.5min\n"
     ]
    }
   ],
   "source": [
    "rf = RandomForestRegressor(random_state=42)\n",
    "\n",
    "n_estimators = [int(x) for x in np.linspace(start = 200, stop = 2000, num = 10)]\n",
    "max_features = [200, 'auto', 'sqrt']\n",
    "max_depth = [int(x) for x in np.linspace(1, 10, num = 10)]\n",
    "max_depth.append(None)\n",
    "min_samples_split = [2, 5, 10]\n",
    "min_samples_leaf = [1, 2, 4]\n",
    "bootstrap = [True, False]\n",
    "\n",
    "random_grid = {'n_estimators': n_estimators,\n",
    "               'max_features': max_features,\n",
    "               'max_depth': max_depth,\n",
    "               'min_samples_split': min_samples_split,\n",
    "               'min_samples_leaf': min_samples_leaf,\n",
    "               'bootstrap': bootstrap}\n",
    "\n",
    "rf = RandomForestRegressor()\n",
    "\n",
    "rf_random = RandomizedSearchCV(estimator = rf, param_distributions = random_grid, n_iter = 100, \\\n",
    "                              cv = 3, verbose=2, random_state=42, n_jobs=-1)\n",
    "print(\"hi\")\n",
    "\n",
    "rf_random.fit(x_train, y_train)\n",
    "\n",
    "rf_random.best_params_\n",
    "\n",
    "best_random = rf_random.best_estimator_\n",
    "\n",
    "\n",
    "winsound.Beep(10000, 440)"
   ]
  },
  {
   "cell_type": "code",
   "execution_count": 4,
   "metadata": {},
   "outputs": [],
   "source": [
    "rf = RandomForestRegressor()"
   ]
  },
  {
   "cell_type": "code",
   "execution_count": null,
   "metadata": {},
   "outputs": [],
   "source": [
    "rf.fit(x_train, y_train)"
   ]
  },
  {
   "cell_type": "code",
   "execution_count": null,
   "metadata": {},
   "outputs": [],
   "source": [
    "accuracy = evaluate(rf, x_train, y_train)"
   ]
  },
  {
   "cell_type": "code",
   "execution_count": null,
   "metadata": {},
   "outputs": [],
   "source": [
    "clf = RandomForestClassifier(n_estimators=200, max_features=200, min_samples_leaf=25,oob_score=True)\n",
    "clf.fit(x_train,y_train)\n",
    "print(squared_loss(clf.predict_proba(x_train)[:,[1]], y_train))\n",
    "print(clf.oob_score_)\n"
   ]
  },
  {
   "cell_type": "code",
   "execution_count": null,
   "metadata": {},
   "outputs": [],
   "source": []
  }
 ],
 "metadata": {
  "kernelspec": {
   "display_name": "Python 3",
   "language": "python",
   "name": "python3"
  },
  "language_info": {
   "codemirror_mode": {
    "name": "ipython",
    "version": 3
   },
   "file_extension": ".py",
   "mimetype": "text/x-python",
   "name": "python",
   "nbconvert_exporter": "python",
   "pygments_lexer": "ipython3",
   "version": "3.7.1"
  }
 },
 "nbformat": 4,
 "nbformat_minor": 2
}
