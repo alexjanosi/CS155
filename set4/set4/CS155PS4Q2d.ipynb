{
  "nbformat": 4,
  "nbformat_minor": 0,
  "metadata": {
    "colab": {
      "name": "CS155PS4Q2d.ipynb",
      "version": "0.3.2",
      "provenance": [],
      "collapsed_sections": []
    },
    "kernelspec": {
      "name": "python3",
      "display_name": "Python 3"
    }
  },
  "cells": [
    {
      "metadata": {
        "id": "NMCNkVRyIJaI",
        "colab_type": "code",
        "colab": {
          "base_uri": "https://localhost:8080/",
          "height": 768
        },
        "outputId": "bc89449b-e9d3-4f5a-be04-00f70faffb40"
      },
      "cell_type": "code",
      "source": [
        "import numpy as np \n",
        "import tensorflow as tf \n",
        "import keras\n",
        "from keras.models import Sequential\n",
        "from keras.layers.core import Dense, Activation, Flatten, Dropout\n",
        "\n",
        "# Importing the MNIST dataset using Keras\n",
        "from keras.datasets import mnist\n",
        "(X_train, y_train), (X_test, y_test) = mnist.load_data()\n",
        "\n",
        "# One-hot encoding for output arrays\n",
        "y_train = keras.utils.np_utils.to_categorical(y_train)\n",
        "y_test = keras.utils.np_utils.to_categorical(y_test)\n",
        "\n",
        "# Reshape the input arrays\n",
        "X_train = np.reshape(X_train, (60000, 784))\n",
        "X_test = np.reshape(X_test, (len(X_test), 784))\n",
        "\n",
        "# Normalization\n",
        "X_train = X_train.astype('float')\n",
        "X_train /= 255\n",
        "X_test = X_test.astype('float')\n",
        "X_test /= 255\n",
        "\n",
        "# Creation of model\n",
        "model = Sequential()\n",
        "model.add(Dense(100))\n",
        "model.add(Activation('relu'))\n",
        "model.add(Dropout(0.3))\n",
        "\n",
        "# Last layer\n",
        "model.add(Dense(10))\n",
        "model.add(Activation('softmax'))\n",
        "\n",
        "# compile and fit model\n",
        "model.compile(loss='categorical_crossentropy', \\\n",
        "              optimizer='rmsprop', metrics=['accuracy'])\n",
        "\n",
        "fit = model.fit(X_train, y_train, batch_size=128, nb_epoch=20,\n",
        "    verbose=1)\n",
        "\n",
        "# Printing the accuracy of our model\n",
        "score = model.evaluate(X_test, y_test, verbose=0)\n",
        "print('Test score:', score[0])\n",
        "print('Test accuracy:', score[1])\n"
      ],
      "execution_count": 89,
      "outputs": [
        {
          "output_type": "stream",
          "text": [
            "/usr/local/lib/python3.6/dist-packages/ipykernel_launcher.py:39: UserWarning: The `nb_epoch` argument in `fit` has been renamed `epochs`.\n"
          ],
          "name": "stderr"
        },
        {
          "output_type": "stream",
          "text": [
            "Epoch 1/20\n",
            "60000/60000 [==============================] - 4s 60us/step - loss: 0.4291 - acc: 0.8789\n",
            "Epoch 2/20\n",
            "60000/60000 [==============================] - 2s 37us/step - loss: 0.2199 - acc: 0.9367\n",
            "Epoch 3/20\n",
            "60000/60000 [==============================] - 2s 37us/step - loss: 0.1764 - acc: 0.9487\n",
            "Epoch 4/20\n",
            "60000/60000 [==============================] - 2s 37us/step - loss: 0.1501 - acc: 0.9551\n",
            "Epoch 5/20\n",
            "60000/60000 [==============================] - 2s 37us/step - loss: 0.1321 - acc: 0.9609\n",
            "Epoch 6/20\n",
            "60000/60000 [==============================] - 2s 37us/step - loss: 0.1219 - acc: 0.9642\n",
            "Epoch 7/20\n",
            "60000/60000 [==============================] - 2s 37us/step - loss: 0.1145 - acc: 0.9662\n",
            "Epoch 8/20\n",
            "60000/60000 [==============================] - 2s 36us/step - loss: 0.1062 - acc: 0.9688\n",
            "Epoch 9/20\n",
            "60000/60000 [==============================] - 2s 37us/step - loss: 0.1002 - acc: 0.9701\n",
            "Epoch 10/20\n",
            "60000/60000 [==============================] - 2s 37us/step - loss: 0.0957 - acc: 0.9716\n",
            "Epoch 11/20\n",
            "60000/60000 [==============================] - 2s 37us/step - loss: 0.0921 - acc: 0.9726\n",
            "Epoch 12/20\n",
            "60000/60000 [==============================] - 2s 38us/step - loss: 0.0888 - acc: 0.9740\n",
            "Epoch 13/20\n",
            "60000/60000 [==============================] - 2s 37us/step - loss: 0.0857 - acc: 0.9738\n",
            "Epoch 14/20\n",
            "60000/60000 [==============================] - 2s 39us/step - loss: 0.0822 - acc: 0.9757\n",
            "Epoch 15/20\n",
            "60000/60000 [==============================] - 2s 41us/step - loss: 0.0786 - acc: 0.9765\n",
            "Epoch 16/20\n",
            "60000/60000 [==============================] - 2s 42us/step - loss: 0.0782 - acc: 0.9773\n",
            "Epoch 17/20\n",
            "60000/60000 [==============================] - 3s 42us/step - loss: 0.0759 - acc: 0.9772\n",
            "Epoch 18/20\n",
            "60000/60000 [==============================] - 2s 40us/step - loss: 0.0759 - acc: 0.9773\n",
            "Epoch 19/20\n",
            "60000/60000 [==============================] - 2s 37us/step - loss: 0.0736 - acc: 0.9785\n",
            "Epoch 20/20\n",
            "60000/60000 [==============================] - 2s 37us/step - loss: 0.0704 - acc: 0.9792\n",
            "Test score: 0.08201487137448275\n",
            "Test accuracy: 0.9784\n"
          ],
          "name": "stdout"
        }
      ]
    },
    {
      "metadata": {
        "id": "GepVSMdeJZH0",
        "colab_type": "code",
        "colab": {}
      },
      "cell_type": "code",
      "source": [
        ""
      ],
      "execution_count": 0,
      "outputs": []
    }
  ]
}