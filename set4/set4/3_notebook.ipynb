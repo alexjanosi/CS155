{
 "cells": [
  {
   "cell_type": "markdown",
   "metadata": {
    "colab_type": "text",
    "id": "1vZOhdKghWRb"
   },
   "source": [
    "# Problem 3"
   ]
  },
  {
   "cell_type": "markdown",
   "metadata": {
    "colab_type": "text",
    "id": "xFVtnZkxhWRg"
   },
   "source": [
    "Use this notebook to write your code for problem 3."
   ]
  },
  {
   "cell_type": "code",
   "execution_count": 0,
   "metadata": {
    "colab": {},
    "colab_type": "code",
    "id": "qbwUV-TphWRm"
   },
   "outputs": [],
   "source": [
    "import numpy as np\n",
    "import matplotlib.pyplot as plt\n",
    "%matplotlib inline"
   ]
  },
  {
   "cell_type": "markdown",
   "metadata": {
    "colab_type": "text",
    "id": "MF97kgV3hWR_"
   },
   "source": [
    "## 3D - Convolutional network"
   ]
  },
  {
   "cell_type": "markdown",
   "metadata": {
    "colab_type": "text",
    "id": "gpOQH8g2hWSB"
   },
   "source": [
    "As in problem 2, we have conveniently provided for your use code that loads, preprocesses, and deals with the uglies of the MNIST data."
   ]
  },
  {
   "cell_type": "code",
   "execution_count": 0,
   "metadata": {
    "colab": {},
    "colab_type": "code",
    "id": "rJFIXy6thWSF"
   },
   "outputs": [],
   "source": [
    "# load MNIST data into Keras format\n",
    "import keras\n",
    "from keras.datasets import mnist\n",
    "\n",
    "(x_train, y_train), (x_test, y_test) = mnist.load_data()"
   ]
  },
  {
   "cell_type": "code",
   "execution_count": 0,
   "metadata": {
    "colab": {},
    "colab_type": "code",
    "id": "4M4jsZ-0hWTc"
   },
   "outputs": [],
   "source": [
    "# we'll need to one-hot encode the labels\n",
    "y_train = keras.utils.np_utils.to_categorical(y_train)\n",
    "y_test = keras.utils.np_utils.to_categorical(y_test)"
   ]
  },
  {
   "cell_type": "code",
   "execution_count": 0,
   "metadata": {
    "colab": {},
    "colab_type": "code",
    "id": "Ta6fAuzrhWTk"
   },
   "outputs": [],
   "source": [
    "# don't forget to NORMALIZE\n",
    "x_train = np.divide(x_train, 255)\n",
    "x_test = np.divide(x_test, 255)"
   ]
  },
  {
   "cell_type": "code",
   "execution_count": 0,
   "metadata": {
    "colab": {},
    "colab_type": "code",
    "id": "VucBuWFbhWTp"
   },
   "outputs": [],
   "source": [
    "# we must reshape the X data (add a channel dimension)\n",
    "x_train = x_train.reshape(tuple(list(x_train.shape) + [1]))\n",
    "x_test = x_test.reshape(tuple(list(x_test.shape) + [1]))"
   ]
  },
  {
   "cell_type": "code",
   "execution_count": 0,
   "metadata": {
    "colab": {},
    "colab_type": "code",
    "id": "B8Nq5XrfhWT1"
   },
   "outputs": [],
   "source": [
    "from keras.models import Sequential\n",
    "from keras.layers import Dense, Activation, Dropout\n",
    "from keras.layers import Conv2D, MaxPooling2D, Flatten, BatchNormalization\n",
    "from keras import regularizers\n",
    "\n",
    "# create model\n",
    "model = Sequential()\n",
    "model.add(Conv2D(32, (3, 3), padding='same',\n",
    "                 input_shape=(28, 28, 1)))\n",
    "model.add(Activation('relu'))\n",
    "model.add(MaxPooling2D(pool_size=(2, 2)))\n",
    "model.add(Dropout(0.50))\n",
    "\n",
    "model.add(Conv2D(32, (3, 3), padding='same'))\n",
    "model.add(BatchNormalization())\n",
    "model.add(Activation('sigmoid'))\n",
    "model.add(MaxPooling2D(pool_size=(2, 2)))\n",
    "model.add(Dropout(0.50))\n",
    "\n",
    "model.add(Flatten())\n",
    "model.add(Dense(64))\n",
    "model.add(Activation('relu'))\n",
    "model.add(Dense(10))\n",
    "model.add(Activation('softmax'))"
   ]
  },
  {
   "cell_type": "code",
   "execution_count": 0,
   "metadata": {
    "colab": {
     "base_uri": "https://localhost:8080/",
     "height": 34
    },
    "colab_type": "code",
    "id": "XiKhsFmohWT-",
    "outputId": "235518c3-e719-4b7a-e55d-2f516e6a8134"
   },
   "outputs": [
    {
     "data": {
      "text/plain": [
       "110762"
      ]
     },
     "execution_count": 57,
     "metadata": {
      "tags": []
     },
     "output_type": "execute_result"
    }
   ],
   "source": [
    "# our model has some # of parameters:\n",
    "model.count_params()"
   ]
  },
  {
   "cell_type": "code",
   "execution_count": 0,
   "metadata": {
    "colab": {},
    "colab_type": "code",
    "id": "B-yS_61GhWUC"
   },
   "outputs": [],
   "source": [
    "# For a multi-class classification problem\n",
    "model.compile(optimizer='rmsprop',\n",
    "              loss='categorical_crossentropy',\n",
    "              metrics=['accuracy'])"
   ]
  },
  {
   "cell_type": "code",
   "execution_count": 0,
   "metadata": {
    "colab": {
     "base_uri": "https://localhost:8080/",
     "height": 374
    },
    "colab_type": "code",
    "id": "qIOROekBhWUG",
    "outputId": "3303cd74-6543-451e-a731-9e0b6c441daf"
   },
   "outputs": [
    {
     "name": "stdout",
     "output_type": "stream",
     "text": [
      "Train on 60000 samples, validate on 10000 samples\n",
      "Epoch 1/10\n",
      "60000/60000 [==============================] - 109s 2ms/step - loss: 0.6346 - acc: 0.7892 - val_loss: 0.1381 - val_acc: 0.9559\n",
      "Epoch 2/10\n",
      "60000/60000 [==============================] - 109s 2ms/step - loss: 0.1839 - acc: 0.9417 - val_loss: 0.0901 - val_acc: 0.9700\n",
      "Epoch 3/10\n",
      "60000/60000 [==============================] - 111s 2ms/step - loss: 0.1482 - acc: 0.9537 - val_loss: 0.0630 - val_acc: 0.9795\n",
      "Epoch 4/10\n",
      "60000/60000 [==============================] - 109s 2ms/step - loss: 0.1309 - acc: 0.9603 - val_loss: 0.0590 - val_acc: 0.9813\n",
      "Epoch 5/10\n",
      "60000/60000 [==============================] - 107s 2ms/step - loss: 0.1228 - acc: 0.9631 - val_loss: 0.0551 - val_acc: 0.9830\n",
      "Epoch 6/10\n",
      "60000/60000 [==============================] - 109s 2ms/step - loss: 0.1118 - acc: 0.9665 - val_loss: 0.0546 - val_acc: 0.9836\n",
      "Epoch 7/10\n",
      "60000/60000 [==============================] - 108s 2ms/step - loss: 0.1047 - acc: 0.9681 - val_loss: 0.0476 - val_acc: 0.9848\n",
      "Epoch 8/10\n",
      "60000/60000 [==============================] - 109s 2ms/step - loss: 0.1014 - acc: 0.9703 - val_loss: 0.0550 - val_acc: 0.9827\n",
      "Epoch 9/10\n",
      "60000/60000 [==============================] - 114s 2ms/step - loss: 0.0999 - acc: 0.9705 - val_loss: 0.0468 - val_acc: 0.9852\n",
      "Epoch 10/10\n",
      "60000/60000 [==============================] - 111s 2ms/step - loss: 0.0953 - acc: 0.9722 - val_loss: 0.0404 - val_acc: 0.9880\n"
     ]
    }
   ],
   "source": [
    "# Train the model, iterating on the data in batches of 32 samples\n",
    "history = model.fit(x_train, y_train, epochs=10, batch_size=32,\n",
    "                    validation_data=(x_test, y_test))"
   ]
  },
  {
   "cell_type": "markdown",
   "metadata": {
    "colab_type": "text",
    "id": "qq0m7Dh2hWUK"
   },
   "source": [
    "Above, we output the training loss/accuracy as well as the validation (here, the TEST) loss and accuracy. To confirm that these are right, we can explicitly print out the training and test losses/accuracies."
   ]
  },
  {
   "cell_type": "code",
   "execution_count": 0,
   "metadata": {
    "colab": {
     "base_uri": "https://localhost:8080/",
     "height": 34
    },
    "colab_type": "code",
    "id": "wZ9nFzVdhWUL",
    "outputId": "6c77c5a1-4da3-4230-a798-b7f47997a1a2"
   },
   "outputs": [
    {
     "data": {
      "text/plain": [
       "['loss', 'acc']"
      ]
     },
     "execution_count": 60,
     "metadata": {
      "tags": []
     },
     "output_type": "execute_result"
    }
   ],
   "source": [
    "# note that our model outputs two eval params:\n",
    "# 1. loss (categorical cross-entropy)\n",
    "# 2. accuracy\n",
    "model.metrics_names"
   ]
  },
  {
   "cell_type": "code",
   "execution_count": 0,
   "metadata": {
    "colab": {
     "base_uri": "https://localhost:8080/",
     "height": 51
    },
    "colab_type": "code",
    "id": "L-EHB_cshWUP",
    "outputId": "7241480a-5dbe-4acf-9710-0bb8d8d39ae7",
    "scrolled": true
   },
   "outputs": [
    {
     "name": "stdout",
     "output_type": "stream",
     "text": [
      "60000/60000 [==============================] - 29s 487us/step\n"
     ]
    },
    {
     "data": {
      "text/plain": [
       "[0.04155734730294013, 0.9878]"
      ]
     },
     "execution_count": 61,
     "metadata": {
      "tags": []
     },
     "output_type": "execute_result"
    }
   ],
   "source": [
    "model.evaluate(x=x_train, y=y_train)"
   ]
  },
  {
   "cell_type": "code",
   "execution_count": 0,
   "metadata": {
    "colab": {
     "base_uri": "https://localhost:8080/",
     "height": 51
    },
    "colab_type": "code",
    "id": "5n_5xRHFhWUS",
    "outputId": "0feb2e2a-06f2-4c5a-d7c1-3611c4bb35ed"
   },
   "outputs": [
    {
     "name": "stdout",
     "output_type": "stream",
     "text": [
      "10000/10000 [==============================] - 5s 483us/step\n"
     ]
    },
    {
     "data": {
      "text/plain": [
       "[0.04038184824609853, 0.988]"
      ]
     },
     "execution_count": 62,
     "metadata": {
      "tags": []
     },
     "output_type": "execute_result"
    }
   ],
   "source": [
    "model.evaluate(x=x_test, y=y_test)"
   ]
  }
 ],
 "metadata": {
  "colab": {
   "collapsed_sections": [],
   "name": "3_notebook.ipynb",
   "provenance": [],
   "version": "0.3.2"
  },
  "kernelspec": {
   "display_name": "Python 3",
   "language": "python",
   "name": "python3"
  },
  "language_info": {
   "codemirror_mode": {
    "name": "ipython",
    "version": 3
   },
   "file_extension": ".py",
   "mimetype": "text/x-python",
   "name": "python",
   "nbconvert_exporter": "python",
   "pygments_lexer": "ipython3",
   "version": "3.7.1"
  }
 },
 "nbformat": 4,
 "nbformat_minor": 1
}
