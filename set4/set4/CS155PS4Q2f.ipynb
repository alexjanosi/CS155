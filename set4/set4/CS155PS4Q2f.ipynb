{
  "nbformat": 4,
  "nbformat_minor": 0,
  "metadata": {
    "colab": {
      "name": "CS155PS4Q2f.ipynb",
      "version": "0.3.2",
      "provenance": [],
      "collapsed_sections": []
    },
    "kernelspec": {
      "name": "python3",
      "display_name": "Python 3"
    }
  },
  "cells": [
    {
      "metadata": {
        "id": "0m9iUAEWiHsP",
        "colab_type": "code",
        "outputId": "14982f97-cbb9-4701-d3eb-be26ba63ac9e",
        "colab": {
          "base_uri": "https://localhost:8080/",
          "height": 768
        }
      },
      "cell_type": "code",
      "source": [
        "import numpy as np \n",
        "import tensorflow as tf \n",
        "import keras\n",
        "from keras.models import Sequential\n",
        "from keras.layers.core import Dense, Activation, Flatten, Dropout\n",
        "\n",
        "# Importing the MNIST dataset using Keras\n",
        "from keras.datasets import mnist\n",
        "(X_train, y_train), (X_test, y_test) = mnist.load_data()\n",
        "\n",
        "# One-hot encoding for output arrays\n",
        "y_train = keras.utils.np_utils.to_categorical(y_train)\n",
        "y_test = keras.utils.np_utils.to_categorical(y_test)\n",
        "\n",
        "# Reshape the input arrays\n",
        "X_train = np.reshape(X_train, (60000, 784))\n",
        "X_test = np.reshape(X_test, (len(X_test), 784))\n",
        "\n",
        "# Normalization\n",
        "X_train = X_train.astype('float')\n",
        "X_train /= 255\n",
        "X_test = X_test.astype('float')\n",
        "X_test /= 255\n",
        "\n",
        "# Creation of model\n",
        "model = Sequential()\n",
        "model.add(Dense(333))\n",
        "model.add(Activation('relu'))\n",
        "model.add(Dropout(0.2))\n",
        "model.add(Dense(333))\n",
        "model.add(Activation('relu'))\n",
        "model.add(Dropout(0.2))\n",
        "model.add(Dense(334))\n",
        "model.add(Activation('relu'))\n",
        "model.add(Dropout(0.2))\n",
        "\n",
        "# Last layer\n",
        "model.add(Dense(10))\n",
        "model.add(Activation('softmax'))\n",
        "\n",
        "# compile and fit model\n",
        "model.compile(loss='categorical_crossentropy', \\\n",
        "              optimizer='rmsprop', metrics=['accuracy'])\n",
        "\n",
        "fit = model.fit(X_train, y_train, batch_size=256, nb_epoch=20,\n",
        "    verbose=1)\n",
        "\n",
        "# Printing the accuracy of our model\n",
        "score = model.evaluate(X_test, y_test, verbose=0)\n",
        "print('Test score:', score[0])\n",
        "print('Test accuracy:', score[1])"
      ],
      "execution_count": 3,
      "outputs": [
        {
          "output_type": "stream",
          "text": [
            "/usr/local/lib/python3.6/dist-packages/ipykernel_launcher.py:45: UserWarning: The `nb_epoch` argument in `fit` has been renamed `epochs`.\n"
          ],
          "name": "stderr"
        },
        {
          "output_type": "stream",
          "text": [
            "Epoch 1/20\n",
            "60000/60000 [==============================] - 7s 111us/step - loss: 0.3484 - acc: 0.8925\n",
            "Epoch 2/20\n",
            "60000/60000 [==============================] - 6s 108us/step - loss: 0.1348 - acc: 0.9596\n",
            "Epoch 3/20\n",
            "60000/60000 [==============================] - 7s 108us/step - loss: 0.0961 - acc: 0.9709\n",
            "Epoch 4/20\n",
            "60000/60000 [==============================] - 7s 109us/step - loss: 0.0758 - acc: 0.9766\n",
            "Epoch 5/20\n",
            "60000/60000 [==============================] - 7s 109us/step - loss: 0.0635 - acc: 0.9808\n",
            "Epoch 6/20\n",
            "60000/60000 [==============================] - 7s 110us/step - loss: 0.0559 - acc: 0.9832\n",
            "Epoch 7/20\n",
            "60000/60000 [==============================] - 7s 109us/step - loss: 0.0473 - acc: 0.9853\n",
            "Epoch 8/20\n",
            "60000/60000 [==============================] - 7s 109us/step - loss: 0.0442 - acc: 0.9864\n",
            "Epoch 9/20\n",
            "60000/60000 [==============================] - 7s 110us/step - loss: 0.0393 - acc: 0.9878\n",
            "Epoch 10/20\n",
            "60000/60000 [==============================] - 7s 109us/step - loss: 0.0342 - acc: 0.9896\n",
            "Epoch 11/20\n",
            "60000/60000 [==============================] - 7s 110us/step - loss: 0.0305 - acc: 0.9902\n",
            "Epoch 12/20\n",
            "60000/60000 [==============================] - 7s 115us/step - loss: 0.0300 - acc: 0.9909\n",
            "Epoch 13/20\n",
            "60000/60000 [==============================] - 7s 111us/step - loss: 0.0281 - acc: 0.9913\n",
            "Epoch 14/20\n",
            "60000/60000 [==============================] - 7s 109us/step - loss: 0.0282 - acc: 0.9916\n",
            "Epoch 15/20\n",
            "60000/60000 [==============================] - 7s 109us/step - loss: 0.0273 - acc: 0.9921\n",
            "Epoch 16/20\n",
            "60000/60000 [==============================] - 7s 109us/step - loss: 0.0231 - acc: 0.9930\n",
            "Epoch 17/20\n",
            "60000/60000 [==============================] - 7s 109us/step - loss: 0.0249 - acc: 0.9925\n",
            "Epoch 18/20\n",
            "60000/60000 [==============================] - 7s 112us/step - loss: 0.0224 - acc: 0.9934\n",
            "Epoch 19/20\n",
            "60000/60000 [==============================] - 7s 109us/step - loss: 0.0213 - acc: 0.9937\n",
            "Epoch 20/20\n",
            "60000/60000 [==============================] - 6s 108us/step - loss: 0.0222 - acc: 0.9936\n",
            "Test score: 0.08870012761469727\n",
            "Test accuracy: 0.9832\n"
          ],
          "name": "stdout"
        }
      ]
    }
  ]
}